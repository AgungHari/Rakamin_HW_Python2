{
 "cells": [
  {
   "cell_type": "markdown",
   "metadata": {},
   "source": [
    "## Soal 1: Tentukan dari variabel\n",
    "#### list_plat_mobil = ['B 1234 AB', 'B 6721 TY', 'B 1233 AY', 'B 6629 DD', 'B 1111 AM', 'B 6726 D', 'D 11223 KJ', 'AE 44677 GH', 'AE 67269 AA']\n",
    "Pertanyaan:\n",
    "Berapa jumlah plat genap dan ganjil?\n",
    "\n",
    "(5 poin)\n",
    "\n",
    "Langkah-langkah:\n",
    "\n",
    "a. Gunakan materi iterasi dan conditional statement yang sudah kamu pelajari.\n",
    "\n",
    "b. Manfaatkan operasi modulo (%) untuk menentukan bilangan genap / ganjil.\n",
    "\n",
    "Catatan:\n",
    "\n",
    "- Soal ini berkaitan dengan materi Sesi 1 dan 2 pada Python Programming.\n",
    "- Soal ini juga terkait dengan challenge pertama pada Sesi 1 Python Programming."
   ]
  },
  {
   "cell_type": "code",
   "execution_count": 10,
   "metadata": {},
   "outputs": [
    {
     "name": "stdout",
     "output_type": "stream",
     "text": [
      "ekstraksi nomer plat dari string: ['1234', '6721', '1233', '6629', '1111', '6726', '11223', '44677', '67269']\n"
     ]
    }
   ],
   "source": [
    "#Fungsi nomer mantap\n",
    "def ngeluarin_nomer(mantap):\n",
    "    angka = []\n",
    "    for i in mantap:\n",
    "        gemeter = i.split()[1]\n",
    "        angka.append(gemeter)\n",
    "    return angka\n",
    "\n",
    "\n",
    "list_plat_mobil = ['B 1234 AB', 'B 6721 TY', 'B 1233 AY', 'B 6629 DD', 'B 1111 AM', 'B 6726 D', 'D 11223 KJ', 'AE 44677 GH', 'AE 67269 AA']\n",
    "nomer_plat = ngeluarin_nomer(list_plat_mobil)\n",
    "print(\"ekstraksi nomer plat dari string:\",nomer_plat)\n"
   ]
  },
  {
   "cell_type": "code",
   "execution_count": 8,
   "metadata": {},
   "outputs": [
    {
     "name": "stdout",
     "output_type": "stream",
     "text": [
      "Ganjil: 2\n",
      "Genap: 7\n"
     ]
    }
   ],
   "source": [
    "#Mantap sekarang modulo gemeter\n",
    "def hitung_ganjil_genap(nomer):\n",
    "    ganjil = 0\n",
    "    genap = 0\n",
    "    for i in nomer:\n",
    "        if int(i) % 2 == 0:\n",
    "            genap += 1\n",
    "        else:\n",
    "            ganjil += 1\n",
    "    return ganjil, genap\n",
    "\n",
    "hasil_genap, hasil_ganjil = hitung_ganjil_genap(nomer_plat)\n",
    "\n",
    "print(\"Ganjil:\", hasil_ganjil)\n",
    "print(\"Genap:\", hasil_genap)\n"
   ]
  },
  {
   "cell_type": "markdown",
   "metadata": {},
   "source": [
    "## Soal 2: Membuat Deret Fibonacci\n",
    "#### Buatlah deret Fibonacci sebanyak 12 angka yang dimulai dari 2 dan 3, menggunakan iterasi dengan cara for atau while.\n",
    "\n",
    "Output yang diharapkan:\n",
    "[2, 3, 5, 8, 13, 21, 34, 55, 89, 144, 233, 377]\n",
    "\n",
    "(5 poin)\n",
    "\n",
    "Langkah-langkah:\n",
    "\n",
    "a. Pahami apa itu deret Fibonacci\n",
    "\n",
    "b. Buatlah variabel inisiasi untuk mengawali nilai item 2 dan 3\n",
    "\n",
    "Catatan:\n",
    "\n",
    "- Materi ini berkaitan dengan Sesi 2 Python Programming, bagian iterasi for / while"
   ]
  },
  {
   "cell_type": "code",
   "execution_count": 18,
   "metadata": {},
   "outputs": [
    {
     "name": "stdout",
     "output_type": "stream",
     "text": [
      "Deret Fibonacci: [2, 3, 5, 8, 13, 21, 34, 55, 89, 144, 233, 377]\n"
     ]
    }
   ],
   "source": [
    "#deret fibonacci\n",
    "def buat_fibo(mantap):\n",
    "    fibo = [2,3]\n",
    "    for i in range(2,mantap):\n",
    "        fibo.append(fibo[-1] + fibo[-2])\n",
    "    return fibo\n",
    "\n",
    "jumlah_index = 12\n",
    "hasil_fibo = buat_fibo(jumlah_index)\n",
    "print(\"Deret Fibonacci:\", hasil_fibo)\n"
   ]
  },
  {
   "cell_type": "markdown",
   "metadata": {},
   "source": [
    "## Soal 3: Menentukan Kemungkinan Kombinasi Bundling Kategori\n",
    "#### Team Campaign PT ABC akan membuat promo bundling category product (berisi 3 category setiap bundling) untuk promo 17 Agustus. PT ABC memiliki 10 category product.\n",
    "\n",
    "Ketentuan Bundling:\n",
    "\n",
    "Tidak boleh hanya memiliki 1 jenis category dalam 1 bundling\n",
    "\n",
    "1 Bundling boleh memiliki 2 category yang sama\n",
    "\n",
    "Urutan tidak menjadi faktor pembeda\n",
    "(contoh: c1 - c2 - c3 dianggap sama dengan c2 - c1 - c3)\n",
    "\n",
    "#### Tentukan ada berapa jumlah kemungkinan bundling yang bisa terbentuk?\n",
    "\n",
    "Berikut list code category:\n",
    "\n",
    "list_id_category = ['c1', 'c2', 'c3', 'c4', 'c5', 'c6', 'c7', 'c8', 'c9', 'c10']\n",
    "\n",
    "(10 poin)\n",
    "\n",
    "Langkah-langkah:\n",
    "\n",
    "a. Buatlah variabel kosong untuk menampung kemungkinan kombinasi\n",
    "\n",
    "b. Gunakan penerapan nested for (for dalam for)\n",
    "\n",
    "c. Buatlah logic pengecekan apakah kombinasi 3 category sudah ada pada variabel inisiasi awal\n",
    "\n",
    "d. Manfaatkan fungsi sort() untuk mengurutkan urutan kombinasi\n",
    "\n",
    "Catatan:\n",
    "\n",
    "- Soal ini berkaitan dengan materi Sesi 2 - Iterasi (bagian nested for)\n",
    "\n",
    "- Terkait juga dengan Solusi Soal 3 - Exercise pada LMS"
   ]
  },
  {
   "cell_type": "code",
   "execution_count": 40,
   "metadata": {},
   "outputs": [
    {
     "name": "stdout",
     "output_type": "stream",
     "text": [
      "List kombinasi bundling: [['c1', 'c1'], ['c1', 'c2'], ['c1', 'c3'], ['c1', 'c4'], ['c1', 'c5'], ['c1', 'c6'], ['c1', 'c7'], ['c1', 'c8'], ['c1', 'c9'], ['c1', 'c10'], ['c2', 'c1'], ['c2', 'c2'], ['c2', 'c3'], ['c2', 'c4'], ['c2', 'c5'], ['c2', 'c6'], ['c2', 'c7'], ['c2', 'c8'], ['c2', 'c9'], ['c2', 'c10'], ['c3', 'c1'], ['c3', 'c2'], ['c3', 'c3'], ['c3', 'c4'], ['c3', 'c5'], ['c3', 'c6'], ['c3', 'c7'], ['c3', 'c8'], ['c3', 'c9'], ['c3', 'c10'], ['c4', 'c1'], ['c4', 'c2'], ['c4', 'c3'], ['c4', 'c4'], ['c4', 'c5'], ['c4', 'c6'], ['c4', 'c7'], ['c4', 'c8'], ['c4', 'c9'], ['c4', 'c10'], ['c5', 'c1'], ['c5', 'c2'], ['c5', 'c3'], ['c5', 'c4'], ['c5', 'c5'], ['c5', 'c6'], ['c5', 'c7'], ['c5', 'c8'], ['c5', 'c9'], ['c5', 'c10'], ['c6', 'c1'], ['c6', 'c2'], ['c6', 'c3'], ['c6', 'c4'], ['c6', 'c5'], ['c6', 'c6'], ['c6', 'c7'], ['c6', 'c8'], ['c6', 'c9'], ['c6', 'c10'], ['c7', 'c1'], ['c7', 'c2'], ['c7', 'c3'], ['c7', 'c4'], ['c7', 'c5'], ['c7', 'c6'], ['c7', 'c7'], ['c7', 'c8'], ['c7', 'c9'], ['c7', 'c10'], ['c8', 'c1'], ['c8', 'c2'], ['c8', 'c3'], ['c8', 'c4'], ['c8', 'c5'], ['c8', 'c6'], ['c8', 'c7'], ['c8', 'c8'], ['c8', 'c9'], ['c8', 'c10'], ['c9', 'c1'], ['c9', 'c2'], ['c9', 'c3'], ['c9', 'c4'], ['c9', 'c5'], ['c9', 'c6'], ['c9', 'c7'], ['c9', 'c8'], ['c9', 'c9'], ['c9', 'c10'], ['c10', 'c1'], ['c10', 'c2'], ['c10', 'c3'], ['c10', 'c4'], ['c10', 'c5'], ['c10', 'c6'], ['c10', 'c7'], ['c10', 'c8'], ['c10', 'c9'], ['c10', 'c10']]\n"
     ]
    }
   ],
   "source": [
    "\n",
    "\n",
    "def buat(mantap):\n",
    "    bundling = []\n",
    "    for i in mantap:\n",
    "        for y in mantap:\n",
    "            kombinasi_bundling = [i,y]\n",
    "            kombinasi_bundling.sort\n",
    "            bundling.append(kombinasi_bundling)\n",
    "    return bundling\n",
    "\n",
    "list_id_category = ['c1', 'c2', 'c3', 'c4', 'c5', 'c6', 'c7', 'c8', 'c9', 'c10']\n",
    "\n",
    "x = buat(list_id_category)\n",
    "print(\"List kombinasi bundling:\", x)\n",
    "\n"
   ]
  },
  {
   "cell_type": "markdown",
   "metadata": {},
   "source": [
    "## Soal 4: Membuat Fungsi string_processor\n",
    "\n",
    "#### Buatlah sebuah function bernama string_processor dengan 2 parameter, yaitu:\n",
    "\n",
    "- string (satu kata), dan\n",
    "\n",
    "- nama proses yang akan dilakukan.\n",
    "\n",
    "#### Function ini memiliki 4 jenis proses:\n",
    "\n",
    "a. first_char  : mengembalikan huruf pertama dari string input\n",
    "\n",
    "b. last_char  : mengembalikan huruf terakhir dari string input\n",
    "\n",
    "c. num_chars  : mengembalikan jumlah seluruh huruf pada string input\n",
    "\n",
    "d. num_vowels : mengembalikan jumlah huruf vokal pada string input\n",
    "\n",
    "(12 poin)\n",
    "\n",
    "Langkah-langkah:\n",
    "\n",
    "a. Buatlah function baru bernama string_processor\n",
    "\n",
    "b. Function ini memiliki 2 parameter\n",
    "\n",
    "c. Buatlah conditional statement di dalam function tersebut sesuai dengan opsi proses yang dipilih ketika function dipanggil\n",
    "\n",
    "Catatan:\n",
    "\n",
    "- Materi ini terkait Sesi 3 dalam Materi Function\n",
    "\n",
    "- Waktu pengerjaan yang disarankan: 15–20 menit"
   ]
  },
  {
   "cell_type": "code",
   "execution_count": null,
   "metadata": {},
   "outputs": [],
   "source": []
  },
  {
   "cell_type": "markdown",
   "metadata": {},
   "source": [
    "## Soal 5: Deteksi Pengguna Gmail pada Dataset\n",
    "\n",
    "#### Menggunakan dataset rakamin_store_city_monthly, buatlah satu kolom baru dengan teknik apply lambda tanpa function def (cukup one-liner).\n",
    "\n",
    "Nama kolom baru: is_gmail,\n",
    "\n",
    "Dengan ketentuan:\n",
    "\n",
    "- Nilai True jika menggunakan Gmail\n",
    "\n",
    "- Nilai False jika bukan Gmail\n",
    "\n",
    "#### Tentukan ada berapa user yang menggunakan email Gmail pada tahun 2018!\n",
    "\n",
    "(14 poin)\n",
    "\n",
    "Langkah-langkah:\n",
    "\n",
    "a. Gunakan teknik apply lambda untuk membuat kolom tahun dengan cara slicing index dari tanggal\n",
    "\n",
    "b. Gunakan teknik apply lambda yang fokus di satu kolom untuk membuat kolom is_gmail\n",
    "\n",
    "c. Untuk melakukan pengecekan apakah Gmail atau tidak, cukup gunakan fungsi in\n",
    "\n",
    "Catatan:\n",
    "\n",
    "- Materi ini terkait Sesi 3 dalam Materi Function\n",
    "\n",
    "- Waktu pengerjaan yang disarankan: 15–20 menit"
   ]
  },
  {
   "cell_type": "code",
   "execution_count": null,
   "metadata": {},
   "outputs": [],
   "source": []
  },
  {
   "cell_type": "markdown",
   "metadata": {},
   "source": [
    "## Soal 6: Menghitung Total Sales dan Profit Berdasarkan Region dan Tahun\n",
    "\n",
    "Gunakan dataset superstore.\n",
    "\n",
    "#### Buatlah sebuah function yang dapat menghitung jumlah Sales dan Profit berdasarkan input tahun dan region, dengan ketentuan:\n",
    "\n",
    "- Default tahun adalah 2017\n",
    "\n",
    "- Gunakan parameter default di dalam fungsi\n",
    "\n",
    "### Pertanyaan:\n",
    "\n",
    "#### Tentukan total Sales dan Profit untuk:\n",
    "\n",
    "- South Region pada tahun 2016\n",
    "\n",
    "- West Region pada tahun 2017\n",
    "\n",
    "(14 poin)\n",
    "\n",
    "#### Langkah-langkah pengerjaan:\n",
    "\n",
    "a. Buatlah fungsi dengan 2 parameter, salah satunya memiliki default value 2017\n",
    "\n",
    "b. Gunakan kolom Sales dan Profit sebagai metrik yang akan diakumulasi (gunakan teknik group by jika diperlukan)\n",
    "\n",
    "#### Referensi materi:\n",
    "\n",
    "Sesi 3 pada Materi Function, khususnya bagian default parameter"
   ]
  },
  {
   "cell_type": "code",
   "execution_count": null,
   "metadata": {},
   "outputs": [],
   "source": []
  },
  {
   "cell_type": "markdown",
   "metadata": {},
   "source": [
    "## Soal 7: Segmentasi Customer Berdasarkan Performance Sales\n",
    "\n",
    "Gunakan dataset superstore.\n",
    "\n",
    "#### Buatlah 3 kelompok 'segment' customer yaitu:\n",
    "\n",
    "- high\n",
    "\n",
    "- medium\n",
    "\n",
    "- low\n",
    "\n",
    "Segmentasi didasarkan pada performance Sales, dan akan digunakan oleh tim bisnis untuk melakukan pengelompokan customer superstore.\n",
    "\n",
    "Instruksi:\n",
    "\n",
    "- Tentukan kriteria pengelompokan customer menjadi high, medium, dan low. Gunakan teknik .iterrows() atau .apply(lambda) untuk membuat kolom baru segmentasi.\n",
    "\n",
    "- Berikan alasan logis atau justifikasi dari kriteria segmentasi yang kamu buat! (misalnya berdasarkan nilai kuartil/tertentu).\n",
    "\n",
    "- Hitung dan tentukan jumlah customer pada masing-masing segment di tahun 2017!\n",
    "\n",
    "(20 poin)\n",
    "\n",
    "#### Langkah-langkah:\n",
    "\n",
    "a. Buatlah kolom tahun terlebih dahulu, bisa memanfaatkan kolom Order Date\n",
    "\n",
    "b. Hati-hati, karena ini segmentasi user maka perlu melakukan agregasi di level user terlebih dulu sebelum melakukan segmentasi\n",
    "\n",
    "c. Tentukan threshold tiap-tiap segment, bisa menggunakan statistik deskriptif (describe)\n",
    "\n",
    "d. Buatlah syntax function atau iterrows untuk membuat kolom baru\n",
    "\n",
    "e. Pastikan ada handling exception jika ada kemungkinan error\n",
    "\n",
    "#### Untuk mempermudah kamu, yuk lihat resource di bawah ini:\n",
    "\n",
    "- Sesi 3 dan 4 pada Materi Function dan handling error"
   ]
  },
  {
   "cell_type": "code",
   "execution_count": null,
   "metadata": {},
   "outputs": [],
   "source": []
  },
  {
   "cell_type": "markdown",
   "metadata": {},
   "source": [
    "## Soal 8: Pembuatan Modul Python\n",
    "\n",
    "#### Buatlah suatu module bebas, dengan suatu manfaat tertentu (belum ada pada materi Function). Komponen yang wajib ada:\n",
    "\n",
    "- Function\n",
    "- Docstring\n",
    "- Memanfaatkan conditional statement / iterasi (at least menggunakan salah satunya)\n",
    "- Terdapat kondisi handling exception error\n",
    "\n",
    "(20 poin)\n",
    "\n",
    "#### Langkah-langkah:\n",
    "\n",
    "a. Tentukan objective dari module yang akan dibuat\n",
    "\n",
    "b. Buat drafting module pada project jupyter untuk melakukan testing. Pastikan terdapat point-point yang diminta\n",
    "\n",
    "c. Copy function yang sudah dibuat pada suatu file berformat .py\n",
    "\n",
    "d. Lakukan import pada project jupyter\n",
    "\n",
    "e. Lakukan function call\n",
    "\n",
    "#### Untuk mempermudah kamu, yuk lihat resource di bawah ini:\n",
    "\n",
    "- Semua sesi yang sudah diajarkan pada Python Programming (Sesi 1–4)"
   ]
  },
  {
   "cell_type": "code",
   "execution_count": null,
   "metadata": {},
   "outputs": [],
   "source": []
  }
 ],
 "metadata": {
  "kernelspec": {
   "display_name": ".venv",
   "language": "python",
   "name": "python3"
  },
  "language_info": {
   "codemirror_mode": {
    "name": "ipython",
    "version": 3
   },
   "file_extension": ".py",
   "mimetype": "text/x-python",
   "name": "python",
   "nbconvert_exporter": "python",
   "pygments_lexer": "ipython3",
   "version": "3.9.12"
  }
 },
 "nbformat": 4,
 "nbformat_minor": 2
}
